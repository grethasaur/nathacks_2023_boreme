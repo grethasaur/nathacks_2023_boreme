{
 "cells": [
  {
   "cell_type": "code",
   "execution_count": null,
   "id": "995f7171-62d6-4392-a10e-beb7fbb88c82",
   "metadata": {
    "tags": []
   },
   "outputs": [],
   "source": [
    "!pip install joblib\n",
    "!pip install seaborn\n"
   ]
  },
  {
   "cell_type": "code",
   "execution_count": 2,
   "id": "e4bd1d65-5cf2-4fea-8a2f-ee447cf1807d",
   "metadata": {
    "tags": [],
    "ExecuteTime": {
     "end_time": "2023-11-25T21:11:45.980334100Z",
     "start_time": "2023-11-25T21:11:45.815437500Z"
    }
   },
   "outputs": [],
   "source": [
    "import joblib\n"
   ]
  },
  {
   "cell_type": "code",
   "execution_count": 3,
   "id": "dd4b6632f042ff3a",
   "metadata": {
    "tags": [],
    "ExecuteTime": {
     "end_time": "2023-11-25T21:13:14.088876900Z",
     "start_time": "2023-11-25T21:12:50.470596700Z"
    }
   },
   "outputs": [],
   "source": [
    "\n",
    "import pandas as pd\n",
    "import matplotlib.pyplot as plt\n",
    "import seaborn as sns\n",
    "import numpy as np\n",
    "from sklearn.metrics import accuracy_score, classification_report, confusion_matrix\n",
    "from sklearn.preprocessing import StandardScaler\n",
    "from scipy.stats import mode\n",
    "\n",
    "  # for scikit-learn models\n",
    "\n",
    "# Load data for newdata.csv\n",
    "nd_ch1 = []\n",
    "with open(\"newdata.csv\", \"r\") as data:\n",
    "    for line in data:\n",
    "        # Format the line\n",
    "        line = line.split(\",\")         # Convert to a list\n",
    "        nd_ch1.append(float(line[0]))  # Just record the 1st channel\n",
    "\n",
    "nd_ch2 = []\n",
    "with open(\"newdata.csv\", \"r\") as data:\n",
    "    for line in data:\n",
    "        # Format the line\n",
    "        line = line.split(\",\")         # Convert to a list\n",
    "        nd_ch2.append(float(line[1]))  # Just record the 1st channel\n",
    "\n",
    "nd_ch3 = []\n",
    "with open(\"newdata.csv\", \"r\") as data:\n",
    "    for line in data:\n",
    "        # Format the line\n",
    "        line = line.split(\",\")         # Convert to a list\n",
    "        nd_ch3.append(float(line[2]))  # Just record the 1st channel\n",
    "\n",
    "nd_ch4 = []\n",
    "with open(\"newdata.csv\", \"r\") as data:\n",
    "    for line in data:\n",
    "        # Format the line\n",
    "        line = line.split(\",\")         # Convert to a list\n",
    "        nd_ch4.append(float(line[3]))  # Just record the 1st channel\n",
    "\n",
    "# CHANNEL 1\n",
    "# ============================================\n",
    "\n",
    "# Assuming nd_ch1_ contains your channel data\n",
    "nd_ch1_fft = np.fft.fft(nd_ch1)\n",
    "nd_ch1_freq = np.fft.fftfreq(len(nd_ch1)) * 256\n",
    "\n",
    "# Apply Fourier Transform\n",
    "nd_ch1_fft = np.fft.fft(nd_ch1)\n",
    "nd_ch1_freq = np.fft.fftfreq(len(nd_ch1)) * 256\n",
    "\n",
    "# Define a threshold frequency\n",
    "threshold_freq = 100\n",
    "\n",
    "# Remove frequencies greater than the threshold\n",
    "nd_ch1_fft[np.abs(nd_ch1_freq) > threshold_freq] = 0\n",
    "\n",
    "# Remove powerline interference\n",
    "cut_freq = 60\n",
    "tolerance = 2\n",
    "index_to_remove = np.where((nd_ch1_freq >= cut_freq - tolerance) & (nd_ch1_freq <= cut_freq + tolerance))\n",
    "nd_ch1_fft[index_to_remove] = 0\n",
    "\n",
    "# binning function\n",
    "def computeBands(freq_array, filtered_data):\n",
    "    bandTotals = [0, 0, 0, 0, 0]\n",
    "    bandCounts = [0, 0, 0, 0, 0]\n",
    "\n",
    "    for point in range(len(freq_array)):\n",
    "        magnitude = np.abs(filtered_data[point])\n",
    "        if freq_array[point] < 4 and magnitude > 0:\n",
    "            bandTotals[0] += magnitude\n",
    "            bandCounts[0] += 1\n",
    "        elif freq_array[point] < 8 and magnitude > 0:\n",
    "            bandTotals[1] += magnitude\n",
    "            bandCounts[1] += 1\n",
    "        elif freq_array[point] < 12 and magnitude > 0:\n",
    "            bandTotals[2] += magnitude\n",
    "            bandCounts[2] += 1\n",
    "        elif freq_array[point] < 30 and magnitude > 0:\n",
    "            bandTotals[3] += magnitude\n",
    "            bandCounts[3] += 1\n",
    "        elif freq_array[point] < 100 and magnitude > 0:\n",
    "            bandTotals[4] += magnitude\n",
    "            bandCounts[4] += 1\n",
    "\n",
    "    # Calculate the average of all points\n",
    "    bandAverages = np.array(bandTotals) / np.array(bandCounts)\n",
    "    return bandAverages\n",
    "\n",
    "# Example usage for Channel 1\n",
    "nd_ch1_bands_before_ifft = computeBands(nd_ch1_freq, nd_ch1_fft)\n",
    "\n",
    "# CHANNEL 2\n",
    "# ============================================\n",
    "\n",
    "# Assuming nd_ch1_ contains your channel data\n",
    "nd_ch2_fft = np.fft.fft(nd_ch2)\n",
    "nd_ch2_freq = np.fft.fftfreq(len(nd_ch2)) * 256\n",
    "\n",
    "# Apply Fourier Transform\n",
    "nd_ch2_fft = np.fft.fft(nd_ch2)\n",
    "nd_ch2_freq = np.fft.fftfreq(len(nd_ch2)) * 256\n",
    "\n",
    "# Define a threshold frequency\n",
    "threshold_freq = 100\n",
    "\n",
    "# Remove frequencies greater than the threshold\n",
    "nd_ch2_fft[np.abs(nd_ch2_freq) > threshold_freq] = 0\n",
    "\n",
    "# Remove powerline interference\n",
    "cut_freq = 60\n",
    "tolerance = 2\n",
    "index_to_remove = np.where((nd_ch2_freq >= cut_freq - tolerance) & (nd_ch2_freq <= cut_freq + tolerance))\n",
    "nd_ch2_fft[index_to_remove] = 0\n",
    "\n",
    "# CHANNEL 3\n",
    "# ============================================\n",
    "\n",
    "# Assuming nd_ch1_ contains your channel data\n",
    "nd_ch3_fft = np.fft.fft(nd_ch3)\n",
    "nd_ch3_freq = np.fft.fftfreq(len(nd_ch3)) * 256\n",
    "\n",
    "# Apply Fourier Transform\n",
    "nd_ch3_fft = np.fft.fft(nd_ch3)\n",
    "nd_ch3_freq = np.fft.fftfreq(len(nd_ch3)) * 256\n",
    "\n",
    "# Define a threshold frequency\n",
    "threshold_freq = 100\n",
    "\n",
    "# Remove frequencies greater than the threshold\n",
    "nd_ch3_fft[np.abs(nd_ch3_freq) > threshold_freq] = 0\n",
    "\n",
    "# Remove powerline interference\n",
    "cut_freq = 60\n",
    "tolerance = 2\n",
    "index_to_remove = np.where((nd_ch3_freq >= cut_freq - tolerance) & (nd_ch3_freq <= cut_freq + tolerance))\n",
    "nd_ch3_fft[index_to_remove] = 0\n",
    "\n",
    "# CHANNEL 4\n",
    "# ============================================\n",
    "\n",
    "# Assuming nd_ch1_ contains your channel data\n",
    "nd_ch4_fft = np.fft.fft(nd_ch4)\n",
    "nd_ch4_freq = np.fft.fftfreq(len(nd_ch4)) * 256\n",
    "\n",
    "# Apply Fourier Transform\n",
    "nd_ch4_fft = np.fft.fft(nd_ch4)\n",
    "nd_ch4_freq = np.fft.fftfreq(len(nd_ch4)) * 256\n",
    "\n",
    "# Combine FFT data into a dataframe\n",
    "nd_df = pd.DataFrame({\n",
    "    'Ch1': nd_ch1_fft,\n",
    "    'Ch2': nd_ch2_fft,\n",
    "    'Ch3': nd_ch3_fft,\n",
    "    'Ch4': nd_ch4_fft\n",
    "})\n",
    "\n",
    "df = nd_df\n",
    "\n",
    "import numpy as np\n",
    "\n",
    "# Assuming df is your DataFrame\n",
    "df['Ch1'] = np.abs(df['Ch1'])\n",
    "df['Ch2'] = np.abs(df['Ch2'])\n",
    "df['Ch3'] = np.abs(df['Ch3'])\n",
    "df['Ch4'] = np.abs(df['Ch4'])"
   ]
  },
  {
   "cell_type": "code",
   "execution_count": null,
   "outputs": [],
   "source": [
    "# Assuming the preprocessing steps for the new data are in a function preprocess_data\n",
    "# Step 3: Preprocess the Data (Assuming df contains the input features)\n",
    "# Apply the same preprocessing steps that were used during training\n",
    "# df = preprocess_data(df)\n",
    "\n",
    "# Step 1: Load the Trained Model\n",
    "model = joblib.load('random_forest_classifier_model.pkl')  # Replace with your model file path\n",
    "\n",
    "# Step 4: Make Predictions\n",
    "predictions = model.predict(df)  # Assuming df contains the features used during training\n",
    "\n",
    "# Step 5: Final Prediction\n",
    "final_output = int(mode(predictions)[0])\n",
    "print(\"Final Output:\", final_output)"
   ],
   "metadata": {
    "collapsed": false
   },
   "id": "3cd39950-115a-4d37-b7e5-49b2573d9e13"
  },
  {
   "cell_type": "code",
   "execution_count": null,
   "outputs": [],
   "source": [
    "!pip install adafruit_io"
   ],
   "metadata": {
    "collapsed": false
   },
   "id": "2d6a832632fbbc16"
  },
  {
   "cell_type": "code",
   "execution_count": 11,
   "id": "ee593367-a480-404f-8dbb-ffba2d1f6717",
   "metadata": {
    "tags": [],
    "ExecuteTime": {
     "end_time": "2023-11-25T21:24:50.347478700Z",
     "start_time": "2023-11-25T21:24:50.332475500Z"
    }
   },
   "outputs": [
    {
     "ename": "TypeError",
     "evalue": "'module' object is not callable",
     "output_type": "error",
     "traceback": [
      "\u001B[1;31m---------------------------------------------------------------------------\u001B[0m",
      "\u001B[1;31mTypeError\u001B[0m                                 Traceback (most recent call last)",
      "Cell \u001B[1;32mIn[11], line 4\u001B[0m\n\u001B[0;32m      1\u001B[0m \u001B[38;5;66;03m# Import library and create instance of REST client.\u001B[39;00m\n\u001B[0;32m      2\u001B[0m \u001B[38;5;28;01mfrom\u001B[39;00m \u001B[38;5;21;01madafruit_io\u001B[39;00m \u001B[38;5;28;01mimport\u001B[39;00m client\n\u001B[1;32m----> 4\u001B[0m aio \u001B[38;5;241m=\u001B[39m \u001B[43mclient\u001B[49m\u001B[43m(\u001B[49m\u001B[38;5;124;43m\"\u001B[39;49m\u001B[38;5;124;43m<insert API auth here>\u001B[39;49m\u001B[38;5;124;43m\"\u001B[39;49m\u001B[43m)\u001B[49m\n\u001B[0;32m      6\u001B[0m \u001B[38;5;66;03m# Add the value to the feed.\u001B[39;00m\n\u001B[0;32m      7\u001B[0m new_data \u001B[38;5;241m=\u001B[39m aio\u001B[38;5;241m.\u001B[39mfeeds(\u001B[38;5;124m'\u001B[39m\u001B[38;5;124mboreme-data\u001B[39m\u001B[38;5;124m'\u001B[39m)\n",
      "\u001B[1;31mTypeError\u001B[0m: 'module' object is not callable"
     ]
    }
   ],
   "source": [
    "# Import library and create instance of REST client.\n",
    "from adafruit_io import client\n",
    "\n",
    "aio = client(\"<insert API auth here>\")\n",
    "\n",
    "# Add the value to the feed.\n",
    "new_data = aio.feeds('boreme-data')\n",
    "aio.send_data(new_data.key, final_output)"
   ]
  },
  {
   "cell_type": "code",
   "execution_count": 13,
   "outputs": [],
   "source": [
    "!pip freeze > requirements.txt"
   ],
   "metadata": {
    "collapsed": false,
    "ExecuteTime": {
     "end_time": "2023-11-25T21:26:17.325105300Z",
     "start_time": "2023-11-25T21:26:16.233434300Z"
    }
   },
   "id": "31d7676ebb8b833"
  },
  {
   "cell_type": "code",
   "execution_count": null,
   "outputs": [],
   "source": [],
   "metadata": {
    "collapsed": false
   },
   "id": "5e6d089cb0924f45"
  }
 ],
 "metadata": {
  "kernelspec": {
   "display_name": "Python 3 (ipykernel)",
   "language": "python",
   "name": "python3"
  },
  "language_info": {
   "codemirror_mode": {
    "name": "ipython",
    "version": 3
   },
   "file_extension": ".py",
   "mimetype": "text/x-python",
   "name": "python",
   "nbconvert_exporter": "python",
   "pygments_lexer": "ipython3",
   "version": "3.11.5"
  }
 },
 "nbformat": 4,
 "nbformat_minor": 5
}
